{
  "nbformat": 4,
  "nbformat_minor": 0,
  "metadata": {
    "colab": {
      "provenance": [],
      "authorship_tag": "ABX9TyO2lNj8obcJOij33vR/xBkA",
      "include_colab_link": true
    },
    "kernelspec": {
      "name": "python3",
      "display_name": "Python 3"
    },
    "language_info": {
      "name": "python"
    }
  },
  "cells": [
    {
      "cell_type": "markdown",
      "metadata": {
        "id": "view-in-github",
        "colab_type": "text"
      },
      "source": [
        "<a href=\"https://colab.research.google.com/github/jamercg/rl/blob/main/prueb.ipynb\" target=\"_parent\"><img src=\"https://colab.research.google.com/assets/colab-badge.svg\" alt=\"Open In Colab\"/></a>"
      ]
    },
    {
      "cell_type": "code",
      "execution_count": null,
      "metadata": {
        "id": "cpQzdVCczrd6"
      },
      "outputs": [],
      "source": [
        "import numpy as np\n",
        "\n",
        "#deltat= (4*A*omega)/c**2\n",
        "#A -- Area del anillo recorrido por la luz\n",
        "\n",
        "c = 299_792_458  # m/s\n",
        "R = 1.0  #m\n",
        "A = np.pi * R**2  #m²\n",
        "\n",
        "# Velocidad angular de la Tierra\n",
        "omega= 7.2921159e-5  # rad/s\n",
        "\n",
        "# Desfase temporal por efecto Sagnac\n",
        "deltat = (4 * A * omega) / c**2\n",
        "\n",
        "# Diferencia de la distancia\n",
        "deltal = c * deltat  # distancia efectiva de diferencia entre haces\n",
        "\n",
        "print(f\"Δt: {deltat:.2e} s\")\n",
        "print(f\"Δl: {deltal:.2e} m\")"
      ]
    }
  ]
}